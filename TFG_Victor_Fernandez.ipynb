{
 "cells": [
  {
   "cell_type": "markdown",
   "metadata": {},
   "source": [
    "# 0. Estructuras utilizadas"
   ]
  },
  {
   "cell_type": "code",
   "execution_count": 1,
   "metadata": {},
   "outputs": [],
   "source": [
    "from instance import WP\n",
    "from instance import Visita\n",
    "import random"
   ]
  },
  {
   "cell_type": "markdown",
   "metadata": {},
   "source": [
    "La clase Ruta que utilizaremos como representación de una solución factible"
   ]
  },
  {
   "cell_type": "code",
   "execution_count": 2,
   "metadata": {},
   "outputs": [],
   "source": [
    "class Ruta :\n",
    "    \n",
    "    def __init__(self):\n",
    "        self.vertices = []\n",
    "        self.tiempo = []  \n",
    "        self.dist = []  # dist[i] := dist(vertices[i] , vertices[i+1])\n",
    "        # se lleva la distancia, aun siendo información redundante en la ruta, por simplificar el código posterior\n",
    "        \n",
    "    def __str__(self):\n",
    "        return 'Ruta: ' + str(self.vertices) + '\\nTiempos: ' + str(self.tiempo) "
   ]
  },
  {
   "cell_type": "markdown",
   "metadata": {},
   "source": [
    "## 0.1 Función fitness"
   ]
  },
  {
   "cell_type": "markdown",
   "metadata": {},
   "source": [
    "\n",
    "A continuacion definimos la función fitness, que dados una instancia y una ruta, determina el numero de testigos que dicen simultaneamente la verdad. La dividimos en varias funciones:\n",
    "\n",
    "* visitar : Dada una ruta para cada persona del problema, y el número de vértices de este, genera una lista para cada vértice del grafo, indicando las distintas visitas que ha recibido dicho vértice. La clase Visita incluye:\n",
    "  - El numero correspondiente al actor que realiza la visita\n",
    "  - El intervalo [a, b] durante el cual dicha persona está en el vértice\n",
    "\n",
    "\n",
    "\n",
    "* comprobar_testimonio(visitas, tes) : Esta función devuelve True o False dependiendo de si el testimonio de la entrada es cierto o no, conociendo todas las visitas que se han hecho a cada vértice\n",
    "\n",
    "* fitness(instancia, rutas) : Devuelve el número de testigos que están diciendo la verdad dada una solución (ruta) del problema."
   ]
  },
  {
   "cell_type": "code",
   "execution_count": 3,
   "metadata": {},
   "outputs": [],
   "source": [
    "def fitness(instancia, rutas) :\n",
    "    # visitar() genera una lista de visitas en cada vértice del grafo, indicando cada una que una persona ha estado en dicho vertice durante un intervalo\n",
    "    visitas = visitar(instancia.grafo.V, [rutas]) \n",
    "    sinceros = 0\n",
    "    for testigo in instancia.testimonios :\n",
    "        b = True\n",
    "        for tes in testigo :\n",
    "            if not comprobar_testimonio(visitas, tes) : # Si algun testimonio del testigo falla\n",
    "                b = False\n",
    "                break # entonces el testigo miente\n",
    "        sinceros += b ## Si b es True, todos los testimonios del testigo eran ciertos, por lo tanto es sincero\n",
    "    return sinceros"
   ]
  },
  {
   "cell_type": "code",
   "execution_count": 4,
   "metadata": {},
   "outputs": [],
   "source": [
    "# Comprueba si 2 intervalos [a1, b1] [a2, b2] se cortan\n",
    "def intervalos_disjuntos(a1,b1,  a2,b2):\n",
    "    assert(a2 <= b2)\n",
    "    return b1 < a2 or b2 < a1\n",
    "\n",
    "\n",
    "# Comprueba si un testimonio es cierto\n",
    "def comprobar_testimonio(visitas , tes) :\n",
    "    for lugar in tes.lugares : # Para cada vertice\n",
    "        for visita in visitas[lugar] : # Recorremos todas las visitas realizadas a dicho vertice\n",
    "            if not intervalos_disjuntos(visita.a, visita.b, tes.a, tes.b) : # Si se visito durante el intervalo requerirdo por el testimonio\n",
    "                for actor in tes.actores : # Comprobamos si la persona que visito el vertice es uno de nuestros actores\n",
    "                    if actor == visita.persona :\n",
    "                        return not tes.negado\n",
    "    return tes.negado\n",
    "\n",
    "def visitar(V, rutas) :\n",
    "    visitas = [[] for _ in range(V)]\n",
    "    \n",
    "    for persona, ruta in enumerate(rutas) : \n",
    "        \n",
    "        # Marcamos el vertice inicial como visitado en [0, t_0]\n",
    "        tiempo = ruta.tiempo[0]\n",
    "        visitas[ruta.vertices[0]].append( Visita(persona, 0 , tiempo))\n",
    "        \n",
    "        # Marcamos en cada vertice que ha sido visitado por la persona en el intervalo [first(k) , last(k)]\n",
    "        for k in range(1, len( ruta.vertices )) :        \n",
    "            tiempo += ruta.dist[k-1] # tiempo = first(k)\n",
    "            visitas[ruta.vertices[k]].append( Visita(persona, tiempo , tiempo + ruta.tiempo[k]))\n",
    "            tiempo += ruta.tiempo[k]  # tiempo = last(k)\n",
    "            \n",
    "    \n",
    "    for vis in visitas :\n",
    "        vis.sort()\n",
    "\n",
    "    return visitas"
   ]
  },
  {
   "cell_type": "markdown",
   "metadata": {},
   "source": [
    "# 1. Algoritmos voraces"
   ]
  },
  {
   "cell_type": "markdown",
   "metadata": {},
   "source": [
    "A continuación exponemos una serie de algoritmos voraces para obtener soluciones aproximadas del problema con un solo actor, un testimonio por cada testigo y sin testimonios negados. Los algoritmos reciben una lista de testimonios y devuelven una ruta como solución.\n"
   ]
  },
  {
   "cell_type": "markdown",
   "metadata": {},
   "source": [
    "## 1.0 Preámbulos"
   ]
  },
  {
   "cell_type": "markdown",
   "metadata": {},
   "source": [
    "Comenzamos implementando una función que genera la lista de testimonios de una instancia, que tomaremos como input en los algoritmos voraces."
   ]
  },
  {
   "cell_type": "code",
   "execution_count": 5,
   "metadata": {},
   "outputs": [],
   "source": [
    "def lista_testimonios(instancia) :\n",
    "    testimonios = []\n",
    "    for testigo in instancia.testimonios :\n",
    "        for T in testigo :\n",
    "            testimonios.append(T)   \n",
    "    return testimonios"
   ]
  },
  {
   "cell_type": "markdown",
   "metadata": {},
   "source": [
    "A continuación implementamos los algoritmos persistentes, que toman un algoritmo voraz y lo ejecutan comenzando desde cada vértice del grafo como vértice inicial. La solución obtenida por estos es necesariamente mayor o igual que la del correspondiente algoritmo utilizado."
   ]
  },
  {
   "cell_type": "code",
   "execution_count": 6,
   "metadata": {},
   "outputs": [],
   "source": [
    "def persistente(instancia, testimonios, algoritmo):\n",
    "    maximo = 0\n",
    "    ruta = Ruta()\n",
    "    for v in range(instancia.grafo.V) :\n",
    "        R = algoritmo(instancia, testimonios, v)\n",
    "        valor = fitness(instancia, R)\n",
    "        if valor > maximo :\n",
    "            ruta = R\n",
    "            maximo = valor\n",
    "    return ruta\n"
   ]
  },
  {
   "cell_type": "markdown",
   "metadata": {},
   "source": [
    "## 1.1 Voraz por hora de llegada y salida"
   ]
  },
  {
   "cell_type": "markdown",
   "metadata": {},
   "source": [
    "Los primeros 2 algoritmos que exponemos parten de la misma idea, ordenamos los testimonios bajo un cierto criterio, y el algoritmo da creedibilidad al primer testimonio de la lista descartando los testimonios posteriores que resulten ser incompatibles con los que ya hayamos dado por ciertos.\n",
    "La primera versión del algoritmo ordenará los testimonios de menor a mayor valor del parámetro a, la hora de llegada al vértice.\n",
    "La segunda versión los ordena de menor a mayor valor de b, la última hora en la que se puede cumplir el testimonio. Ambas, una vez ordenados llaman a la siguiente función:"
   ]
  },
  {
   "cell_type": "code",
   "execution_count": 7,
   "metadata": {},
   "outputs": [],
   "source": [
    "# Recibe una lista de testimonios y un vértice inicial, va cogiendo testimonios de la lista mientras pueda hacerlos ciertos\n",
    "\n",
    "def voraz(grafo, testimonios, src) :\n",
    "    R = Ruta()\n",
    "        \n",
    "    R.vertices.append(src)\n",
    "    R.tiempo.append(0)\n",
    "    time = 0\n",
    "    for T in testimonios :\n",
    "        distancia = 1000000000\n",
    "        dst = -1\n",
    "        for v in T.lugares : # Intentamos hacer cierto el testimonio T con el vertice que nos pille mas cerca\n",
    "            d = grafo.dist(src, v)\n",
    "            if time + d <= T.b and d < distancia :\n",
    "                dst = v\n",
    "                distancia = d\n",
    "        if dst != -1 :  # Si dst no es -1 el testimonio se puede hacer cierto\n",
    "            arrival = max(T.a, time + distancia)\n",
    "\n",
    "            # La funcion reconstruir utiliza el algoritmo de Floyd para modificar la ruta R de tal forma que \n",
    "            # llegue de src a dst en el tiempo arrival - time, esperando si fuera necesario en el ultimo vertice.\n",
    "            grafo.reconstruir(src, dst, arrival - time , R)\n",
    "            src = dst\n",
    "            time = arrival\n",
    "    return R\n",
    "            "
   ]
  },
  {
   "cell_type": "code",
   "execution_count": 8,
   "metadata": {},
   "outputs": [],
   "source": [
    "def vertice_inicial(testimonios):\n",
    "    for T in testimonios :\n",
    "        src = random.choice(T.lugares)\n",
    "        return src"
   ]
  },
  {
   "cell_type": "code",
   "execution_count": 9,
   "metadata": {},
   "outputs": [],
   "source": [
    "def voraz_hora_de_llegada(instancia, testimonios, src = -1):\n",
    "\n",
    "    testimonios.sort(key = lambda tes : tes.a) \n",
    "\n",
    "    if src == -1 : # Buscamos el testimonio inicial aleatoriamente de tal forma que cumpla el primer testimonio\n",
    "        src = vertice_inicial(testimonios)\n",
    "    \n",
    "    R = voraz(instancia.grafo, testimonios, src)\n",
    "    \n",
    "    return R"
   ]
  },
  {
   "cell_type": "code",
   "execution_count": 10,
   "metadata": {},
   "outputs": [],
   "source": [
    "def voraz_hora_de_salida(instancia, testimonios, src = -1):\n",
    "\n",
    "    testimonios.sort(key = lambda tes : tes.b) \n",
    "\n",
    "    if src == -1 : # Buscamos el testimonio inicial aleatoriamente de tal forma que cumpla el primer testimonio\n",
    "        src = vertice_inicial(testimonios)\n",
    "    \n",
    "    R = voraz(instancia.grafo, testimonios, src)\n",
    "    \n",
    "    return R"
   ]
  },
  {
   "cell_type": "markdown",
   "metadata": {},
   "source": [
    "## 1.2 Voraz por distancia"
   ]
  },
  {
   "cell_type": "markdown",
   "metadata": {},
   "source": [
    "La siguiente estrategia voraz parte de un vértice arbitrario y va seleccionando en cada paso el testimonio que se puede cumplir en el menor tiempo posible habiendo comenzado en dicho vértice en el tiempo 0."
   ]
  },
  {
   "cell_type": "code",
   "execution_count": 11,
   "metadata": {},
   "outputs": [],
   "source": [
    "def voraz_distancia(instancia, testimonios, src = -1):\n",
    "    grafo = instancia.grafo\n",
    "\n",
    "    if src == -1 : # Buscamos el testimonio inicial aleatoriamente de tal forma que cumpla el primer testimonio\n",
    "        src = vertice_inicial(testimonios)\n",
    "\n",
    "    descartados = [False for _ in testimonios]\n",
    "    time = 0\n",
    "    R = Ruta()\n",
    "    R.vertices.append(src)\n",
    "    R.tiempo.append(0)\n",
    "    cambio = True\n",
    "    while cambio :\n",
    "        \n",
    "        minimo = 1000000000\n",
    "\n",
    "        cambio = False\n",
    "        for i,T in enumerate(testimonios) :\n",
    "            if descartados[i] :\n",
    "                continue\n",
    "\n",
    "            # Tomamos el vertice mas cercano del testimonio\n",
    "            vert = min(T.lugares, key = lambda v : grafo.dist(src,v))\n",
    "            dist = grafo.dist(src,vert)\n",
    "\n",
    "            if time + dist > T.b : #Si este testimonio es inalcanzable lo descartamos, pues tampoco lo será en el futuro\n",
    "                descartados[i] = True\n",
    "            elif max(time + dist, T.a) < minimo: # Si podemos alcanzar este vertice y mejora el actual\n",
    "                cambio = True\n",
    "                minimo = max(time + dist, T.a)      # actualizamos minimo y dst\n",
    "                dst = vert\n",
    "                test_index = i\n",
    "\n",
    "        # Una vez encontrado el testimonio que minimiza la distancia reconstruimos la solucion\n",
    "        if cambio :\n",
    "            descartados[test_index] = True\n",
    "            grafo.reconstruir(src,dst, minimo - time, R)\n",
    "            src = dst\n",
    "            time = minimo\n",
    "\n",
    "    return R"
   ]
  },
  {
   "cell_type": "markdown",
   "metadata": {},
   "source": [
    "## 1.3 Voraz por número de testimonios"
   ]
  },
  {
   "cell_type": "markdown",
   "metadata": {},
   "source": [
    "Finalmente la última estrategia voraz que implementaremos es la más costosa computacionalmente, encontrándose en $O(N^3)$, y consiste en que a cada paso del algoritmo seleccionamos viajar a un vértice que verifica algún testimonio y que nos permite verificar el mayor número de testimonios a partir de él. La estructura del código es idéntica al anterior, modificando solamente la selección del vértice."
   ]
  },
  {
   "cell_type": "code",
   "execution_count": 12,
   "metadata": {},
   "outputs": [],
   "source": [
    "def voraz_testimonios(instancia, testimonios, src = -1):\n",
    "    grafo = instancia.grafo\n",
    "\n",
    "    if src == -1 : # Buscamos el testimonio inicial aleatoriamente de tal forma que cumpla el primer testimonio\n",
    "        src = vertice_inicial(testimonios)\n",
    "\n",
    "    descartados = [False for _ in testimonios]\n",
    "    time = 0\n",
    "    R = Ruta()\n",
    "    R.vertices.append(src)\n",
    "    R.tiempo.append(0)\n",
    "    cambio = True\n",
    "    while cambio :\n",
    "        \n",
    "        maximo = 0\n",
    "\n",
    "        cambio = False\n",
    "        for i,T in enumerate(testimonios) :\n",
    "            if descartados[i] :\n",
    "                continue\n",
    "            testimonio_alcanzable = False\n",
    "            arrival = 1000000000\n",
    "            # Tomamos el vertice que maximiza los testimonios alcanzables (vert), y el valor de dicho máximo (maximo)\n",
    "            for vert in T.lugares :\n",
    "                if time + grafo.dist(src,vert) <= T.b : # Si este vertice es alcanzable comprobamos si mejora el actual\n",
    "                    testimonio_alcanzable = True\n",
    "                    llegada_vert = max(T.a, time + grafo.dist(src,vert))\n",
    "                    alcanzables = testimonios_alcanzables(grafo, testimonios, descartados, vert, llegada_vert)\n",
    "                    # esta funcion, implementada a continuación, devuelve la cantidad de testimonios alcanzables a posteriori\n",
    "\n",
    "                    # Si podemos alcanzar este vertice y mejora el actual, reemplazamos el actual por este. En caso de empate tomamos al que se llegue antes\n",
    "                    if alcanzables > maximo or (alcanzables == maximo and llegada_vert < arrival ):\n",
    "                        cambio = True\n",
    "                        maximo = alcanzables\n",
    "                        dst = vert\n",
    "                        arrival = llegada_vert\n",
    "                        test_index = i\n",
    "\n",
    "                if not testimonio_alcanzable:\n",
    "                    descartados[i] = True\n",
    "\n",
    "        # Una vez encontrado el testimonio que minimiza la distancia reconstruimos la solucion\n",
    "        if cambio :\n",
    "            descartados[test_index] = True\n",
    "            grafo.reconstruir(src,dst, arrival - time, R)\n",
    "            src = dst\n",
    "            time = arrival\n",
    "\n",
    "    return R"
   ]
  },
  {
   "cell_type": "code",
   "execution_count": 13,
   "metadata": {},
   "outputs": [],
   "source": [
    "#La funcion testimonios_alcanzables indica cuantos testimonios de la lista \"testimonios\" pueden llegar a ser ciertos partiendo del vertice vert a las t\n",
    "\n",
    "def testimonios_alcanzables(grafo, testimonios, descartados, vert, t) :\n",
    "    cuenta = 0\n",
    "    for i,T in enumerate(testimonios) :\n",
    "        if not descartados[i]:\n",
    "            for v in T.lugares :\n",
    "                if t + grafo.dist(vert,v) <= T.b :\n",
    "                    cuenta += 1\n",
    "                    break\n",
    "    return cuenta "
   ]
  },
  {
   "cell_type": "markdown",
   "metadata": {},
   "source": [
    "# 2. Algoritmo de búsqueda\n"
   ]
  },
  {
   "cell_type": "markdown",
   "metadata": {},
   "source": [
    "Definimos un algoritmo de búsqueda, de coste exponencial, que nos permita encontrar la solución óptima en instancias pequeñas del problema, probando cada ruta posible en dicha instancia. Su coste en el caso peor es de O(V^M), siendo V el número de vértices del grafo y M el testimonio más tardío. Este caso peor sucede cuando se trata de un grafo completo donde todas las distancias son 1, por lo que para encontrar rutas que solucionen el problema basta con comprobar todas las rutas de tamaño tamaño inferior o igual que M. "
   ]
  },
  {
   "cell_type": "code",
   "execution_count": 14,
   "metadata": {},
   "outputs": [],
   "source": [
    "def busqueda_rec(R,time, last_v) :\n",
    "    if time <= 0 :\n",
    "        return fitness(instancia, R)\n",
    "    maximo = fitness(instancia, R)\n",
    "    for arista in instancia.grafo.adyList[last_v] :\n",
    "        R.vertices.append( arista.vertice )\n",
    "        R.tiempo.append( 0 )\n",
    "        R.dist.append( arista.distancia )\n",
    "        maximo = max(maximo , busqueda_rec(R, time - arista.distancia, arista.vertice) )\n",
    "        del R.vertices[-1]\n",
    "        del R.tiempo[-1]\n",
    "        del R.dist[-1]\n",
    "    R.tiempo[-1] += 1\n",
    "    maximo = max( maximo , busqueda_rec(R, time - 1, last_v) )\n",
    "    R.tiempo[-1] -= 1\n",
    "    return maximo\n",
    "    \n",
    "def busqueda() :   \n",
    "    R = Ruta()\n",
    "    maximo = 0\n",
    "    for vertice in range(instancia.grafo.V) :\n",
    "        R.vertices.append( vertice )\n",
    "        R.tiempo.append( 0 )\n",
    "        maximo = max(maximo , busqueda_rec(R, instancia.M, vertice) )\n",
    "        del R.vertices[-1]\n",
    "        del R.tiempo[-1]\n",
    "    return maximo"
   ]
  },
  {
   "cell_type": "markdown",
   "metadata": {},
   "source": [
    "Como comentario, mencionar que se puede hacer otro algoritmo de búsqueda que tolere grafos e intervalos de tiempo más grandes, pero sea de orden al menos $O(N!)$, probando para cada posible reordenación de los testimonios si es posible cumplirlos en dicho orden. Esto sin embargo no nos conviene en nuestro estudio, pues preferimos que el número de testimonios sea grande para que haya más rango de diferencias entre las soluciones obtenidas por un algoritmo y por otro y así facilitar las comparaciones, así que el precio a pagar por ello es que el grafo y el tiempo sean pequeños para que no haya una cantidad exagerada de rutas posibles."
   ]
  },
  {
   "cell_type": "markdown",
   "metadata": {},
   "source": [
    "# 3. Comparación algoritmos voraces"
   ]
  },
  {
   "cell_type": "markdown",
   "metadata": {},
   "source": [
    "En esta sección definimos las funciones utilizadas para evaluar y comparar los distintos algoritmos voraces y el algoritmo de búsqueda"
   ]
  },
  {
   "cell_type": "markdown",
   "metadata": {},
   "source": [
    "## 3.1 Definiciones"
   ]
  },
  {
   "cell_type": "markdown",
   "metadata": {},
   "source": [
    "\n",
    "Comenzamos creando una lista con todos los algoritmos voraces a ser comparados."
   ]
  },
  {
   "cell_type": "code",
   "execution_count": 15,
   "metadata": {},
   "outputs": [],
   "source": [
    "## Definimos una función lambda para poder probar los algoritmos persistentes de la misma forma que los algoritmos voraces\n",
    "fun = lambda algoritmo : (lambda inst, test : persistente(inst, test, algoritmo) )\n",
    "\n",
    "voraces = [voraz_hora_de_llegada,\n",
    "    voraz_hora_de_salida ,\n",
    "    voraz_distancia , \n",
    "    voraz_testimonios,\n",
    "    fun(voraz_hora_de_llegada), \n",
    "    fun(voraz_hora_de_salida), \n",
    "    fun(voraz_distancia), \n",
    "    fun(voraz_testimonios)]\n",
    "\n",
    "nombres_voraces = ['Voraz hora de llegada', \n",
    "    'Voraz hora de salida', \n",
    "    'Voraz distancia', \n",
    "    'Voraz numero de testimonios alcanzables',\n",
    "    'Voraz hora de llegada persistente', \n",
    "    'Voraz hora de salida persistente', \n",
    "    'Voraz distancia persistente', \n",
    "    'Voraz numero de testimonios alcanzables persistente']"
   ]
  },
  {
   "cell_type": "markdown",
   "metadata": {},
   "source": [
    "Una función test_voraces() que ejecuta todos los métodos voraces para una instancia dada y devuelve sus resultados:"
   ]
  },
  {
   "cell_type": "code",
   "execution_count": 16,
   "metadata": {},
   "outputs": [],
   "source": [
    "def ejecutar_voraces(instancia):\n",
    "    \n",
    "    testimonios = lista_testimonios(instancia)\n",
    "\n",
    "    soluciones = []\n",
    "\n",
    "    for i in range(len(voraces)):\n",
    "        R = voraces[i](instancia, testimonios)\n",
    "        soluciones.append(R)\n",
    "\n",
    "    return soluciones"
   ]
  },
  {
   "cell_type": "markdown",
   "metadata": {},
   "source": [
    "Finalmente, una función que, dado el nombre de un fichero con instancias del problema, ejecuta todos los algoritmos voraces en todas ellas y devuelve los resultados obtenidos por cada algoritmo en una matriz. Creamos asimismo la función análoga que obtiene la solución óptima de las instancias."
   ]
  },
  {
   "cell_type": "code",
   "execution_count": 17,
   "metadata": {},
   "outputs": [],
   "source": [
    "def test_voraces(archivo):\n",
    "    instancia = WP()\n",
    "\n",
    "    sols = []\n",
    "    \n",
    "    with open('test_cases/' +archivo) as f :\n",
    "        casos = int(f.readline())\n",
    "        for i in range(casos):\n",
    "            instancia = WP()\n",
    "            instancia.leer(f)      # ejecutar_voraces() devuelve rutas, pero solo nos interesa guardar su valor fitness\n",
    "            rutas = ejecutar_voraces(instancia)\n",
    "            sols.append( [fitness(instancia, x) for x in rutas ] )\n",
    "\n",
    "    archivo_out = 'voraces_'+archivo\n",
    "    with open('test_cases_out/' +archivo_out,'w') as out :\n",
    "        out.write('Soluciones de los algoritmos geneticos de: ' + archivo + '\\n')\n",
    "        for i in range( len(nombres_voraces) ):\n",
    "            out.write('\\n\\n' + nombres_voraces[i] + ':\\n')\n",
    "            for j in range( len(sols) ) :\n",
    "                out.write(str(sols[j][i]) + ', ')\n",
    "\n",
    "    return sols"
   ]
  },
  {
   "cell_type": "code",
   "execution_count": 18,
   "metadata": {},
   "outputs": [],
   "source": [
    "def test_optima(archivo):\n",
    "    global instancia\n",
    "    instancia = WP()\n",
    "\n",
    "    optima = []\n",
    "    \n",
    "    with open('test_cases/' + archivo) as f :\n",
    "        casos = int(f.readline())\n",
    "        for i in range(casos):\n",
    "            instancia = WP()\n",
    "            instancia.leer(f)      \n",
    "            optima.append( busqueda() )\n",
    "\n",
    "    archivo_out = 'optimas_'+archivo\n",
    "    with open('test_cases_out/' + archivo_out,'w') as out :\n",
    "        out.write('Soluciones optimas de: ' + archivo + '\\n')\n",
    "        for elem in optima :\n",
    "            out.write(str(elem) + ', ')\n",
    "\n",
    "    return optima"
   ]
  },
  {
   "cell_type": "markdown",
   "metadata": {},
   "source": [
    "# 4. Algoritmo genético"
   ]
  },
  {
   "cell_type": "markdown",
   "metadata": {},
   "source": [
    "## 4.1 Implementación del problema genético en general"
   ]
  },
  {
   "cell_type": "markdown",
   "metadata": {},
   "source": [
    "En esta sección implementamos un modelo de algoritmo genético que permite resolver cualquier problema de optimización para el que se definan posteriormente funciones poblacion_inicial(), muta(), cruza() y fitness().\n",
    "Comenzamos creando una clase ProblemaGenetico que utilizaremos como interfaz con los métodos necesarios para resolver un problema genético:\n",
    "\n",
    "* poblacion_inicial : Genera aleatoriamente una población inicial aleatoria del tamaño pedido que representan posibles soluciones del problema, en nuestro caso, son rutas de una instancia del problema.\n",
    "\n",
    "* muta : Realiza cambios (mutaciones) al azar sobre un individuo de la población dado, con probabilidad prob, con el objetivo de alcanzar zonas del espacio de búsqueda nuevas, que no quedan cubiertas con los individuos actuales\n",
    "\n",
    "* cruza : Representa la reproducción de 2 individuos de la población para generar 2 desdencientes con características compartidas con ambos padres.\n",
    "\n",
    "* fitness : Evalúa un individuo de la población para saber como de \"bueno\" es como solución de la instancia\n",
    "\n",
    "El objetivo de crear esta clase, será poder comparar las diferencias en el funcionamiento de distintos métodos de mutación y cruce"
   ]
  },
  {
   "cell_type": "code",
   "execution_count": 19,
   "metadata": {},
   "outputs": [],
   "source": [
    "class ProblemaGenetico(object):\n",
    "        def __init__(self, fun_muta , fun_cruza, fun_fitness, fun_pob_inicial, \n",
    "        num_generaciones = 100, tam_generacion = 100, proporcion_cruces = 0.7, probabilidad_mutar = 0.1, participantes_torneo = 4):\n",
    "            self.fun_cruza = fun_cruza\n",
    "            self.fun_muta = fun_muta\n",
    "            self.fun_fitness = fun_fitness\n",
    "            self.fun_pob_inicial = fun_pob_inicial\n",
    "            self.ngen = num_generaciones\n",
    "            self.size = tam_generacion\n",
    "            self.prop_cruces = proporcion_cruces\n",
    "            self.prob_mutar = probabilidad_mutar\n",
    "            self.k = participantes_torneo\n",
    "            self.instancia = None\n",
    "        \n",
    "        def poblacion_inicial(self) :\n",
    "            #  Genera la poblacion inicial aleatoriamente\n",
    "            return self.fun_pob_inicial(self.instancia, self.size)\n",
    "        \n",
    "        def muta(self, individuo):\n",
    "            #  Devuelve el cromosoma mutado\n",
    "            return self.fun_muta(self.instancia, individuo, self.prob_mutar)\n",
    "        \n",
    "        def cruza(self, padre1, padre2):         \n",
    "            #  Devuelve el cruce de un par de cromosomas\n",
    "            return self.fun_cruza(self.instancia, padre1, padre2)\n",
    "        \n",
    "        def fitness(self, individuo):    \n",
    "            #  Función de valoración\n",
    "            return self.fun_fitness(self.instancia, individuo)\n",
    "\n",
    "        def solve(self, instancia):\n",
    "            self.instancia = instancia\n",
    "            return algoritmo_genetico(self)"
   ]
  },
  {
   "cell_type": "markdown",
   "metadata": {},
   "source": [
    "A continuación tenemos la implementación del algoritmo genético que utilizaremos para resolver un objeto ProblemaGenetico, y posteriormente la implementación de todas las funciones asociadas a él."
   ]
  },
  {
   "cell_type": "code",
   "execution_count": 20,
   "metadata": {},
   "outputs": [],
   "source": [
    "def algoritmo_genetico(prob):\n",
    "    \n",
    "    poblacion = prob.poblacion_inicial()    # Creamos la poblacion inicial\n",
    "    n_padres = round(prob.size * prob.prop_cruces)\n",
    "    n_padres= int (n_padres if n_padres%2==0 else n_padres-1)\n",
    "    n_directos = prob.size - n_padres\n",
    "    maximo = 0\n",
    "    for _ in range(prob.ngen):    # Creamos ngen generaciones, cada una a partir de la anterior\n",
    "        poblacion, mejor, valor_mejor = nueva_generacion(prob, poblacion, n_padres, n_directos)\n",
    "        \n",
    "        # Acumulamos el maximo de esta generacion y las pasadas\n",
    "        \n",
    "        if maximo < valor_mejor:\n",
    "            maximo = valor_mejor\n",
    "            individuo = mejor\n",
    "\n",
    "    return maximo, individuo\n"
   ]
  },
  {
   "cell_type": "code",
   "execution_count": 21,
   "metadata": {},
   "outputs": [],
   "source": [
    "def nueva_generacion(prob, poblacion, n_padres, n_directos):\n",
    "    \n",
    "    valor_fitness = [prob.fitness(x) for x in poblacion]\n",
    "    posicion_mejor = valor_fitness.index( max(valor_fitness) )\n",
    "    \n",
    "    ## Seleccionamos aleatoriamente los individuos que seran padres de la siguiente generacion, y los que pasan directamente\n",
    "    \n",
    "    directos = seleccion_por_torneo(poblacion, valor_fitness, n_directos, prob.k) \n",
    "    padres = seleccion_por_torneo(poblacion, valor_fitness, n_padres  , prob.k)\n",
    "    cruces =  cruza_padres(prob,padres)\n",
    "    generacion = directos + cruces\n",
    "    \n",
    "    ## Mutamos aleatoriamente algunos individuos de la poblacion\n",
    "    \n",
    "    resultado_mutaciones = muta_individuos(prob, generacion)\n",
    "         # siguiente poblacion , mejor individuo          , valor del mejor individuo    \n",
    "    return resultado_mutaciones, poblacion[posicion_mejor], valor_fitness[posicion_mejor]"
   ]
  },
  {
   "cell_type": "markdown",
   "metadata": {},
   "source": [
    "El proceso de selección de los mejores individuos de una población tendrá cierta aleatoriedad añadida para evitar caer en máximos locales. Para ello, para elegir a n individuos, realizaremos n torneos distintos entre k participantes tomados al azar cada uno, de entre los cuales se elegirá al mejor."
   ]
  },
  {
   "cell_type": "code",
   "execution_count": 22,
   "metadata": {},
   "outputs": [],
   "source": [
    "def seleccion_por_torneo(poblacion, valor_fitness, n, k):\n",
    "    # Selección por torneo de n individuos de una población. Siendo k el nº de participantes\n",
    "    # valor_fitness es una lista del mismo tamño que poblacion que contiene el resultado de aplicar la funcion fitness\n",
    "    seleccionados = []\n",
    "    p = 0.7\n",
    "    for i in range(n):\n",
    "        participantes_index = random.sample( range(len(poblacion)) ,k)\n",
    "        participantes_index.sort( key = lambda i : valor_fitness[i])\n",
    "        i = 0\n",
    "        while i < k - 1 :   # Distribución de probabilidad pseudo geométrica (la geométrica es sobre los infinitos numeros naturales, aquí al último número le damos toda la probabilidad restante)\n",
    "            if random.uniform(0,1) < p:\n",
    "                break\n",
    "            i += 1\n",
    "        seleccionado = poblacion[participantes_index[i]]\n",
    "\n",
    "        seleccionados.append(seleccionado)\n",
    "    return seleccionados "
   ]
  },
  {
   "cell_type": "markdown",
   "metadata": {},
   "source": [
    "Finalmente las siguientes dos funciones se encargan de cruzar a todos los padres de dos en dos, y mutar con probabilidad p a cada hijo, para dar lugar a la siguiente generación."
   ]
  },
  {
   "cell_type": "code",
   "execution_count": 23,
   "metadata": {},
   "outputs": [],
   "source": [
    "def cruza_padres(problema_genetico,padres):\n",
    "    l = []\n",
    "    for i in range(len(padres)//2):\n",
    "        hijo1, hijo2 = problema_genetico.cruza(padres[2*i],padres[2*i+1])\n",
    "        l.append(hijo1)\n",
    "        l.append(hijo2)\n",
    "        \n",
    "    return l\n",
    "\n",
    "def muta_individuos(problema_genetico, poblacion):\n",
    "    mutaciones = []\n",
    "    for especimen in poblacion:\n",
    "        mutaciones.append(problema_genetico.muta(especimen))\n",
    "    return mutaciones"
   ]
  },
  {
   "cell_type": "markdown",
   "metadata": {},
   "source": [
    "## 4.2 Función población inicial"
   ]
  },
  {
   "cell_type": "markdown",
   "metadata": {},
   "source": [
    "Como comentamos en la memoria, probaremos dos métodos distintos para generar la población inicial de un algritmo genético. El primero de ellos crea rutas totalmente al azar, el segundo sin embargo toma las rutas calculadas con los métodos voraces, y las rutas restantes las genera al azar también.\n",
    "Para generar las rutas aleatorias utilizamos una función ruta_random() que será definida posteriormente en la sección de mutaciones."
   ]
  },
  {
   "cell_type": "code",
   "execution_count": 24,
   "metadata": {},
   "outputs": [],
   "source": [
    "MAX_TIEMPO_ESPERA = 4\n",
    "\n",
    "def poblacion_inicial1(instancia, size):\n",
    "    poblacion = []\n",
    "    \n",
    "    for j in range(size) :\n",
    "        poblacion.append(Ruta())\n",
    "        \n",
    "        ruta_random(instancia.grafo, -1, -1, instancia.M, poblacion[j])\n",
    "\n",
    "    return poblacion"
   ]
  },
  {
   "cell_type": "code",
   "execution_count": 25,
   "metadata": {},
   "outputs": [],
   "source": [
    "def poblacion_inicial2(instancia, size):\n",
    "    assert(size >= len(voraces))\n",
    "    soluciones_voraces = ejecutar_voraces(instancia)\n",
    "\n",
    "    ## Arreglamos las soluciones voraces para que sean rutas de tamaño M como requiere el algoritmo genetico\n",
    "    \n",
    "    for ruta in soluciones_voraces :\n",
    "        suma = 0\n",
    "        for i in range(len(ruta.dist)) :\n",
    "            suma += ruta.dist[i] + ruta.tiempo[i]\n",
    "        ruta.tiempo[-1] = instancia.M - suma\n",
    "\n",
    "    return soluciones_voraces + poblacion_inicial1(instancia, size - len(voraces)) "
   ]
  },
  {
   "cell_type": "markdown",
   "metadata": {},
   "source": [
    "## 4.3 Funcion cruzar"
   ]
  },
  {
   "cell_type": "markdown",
   "metadata": {},
   "source": [
    "Para la función de cruce, comenzamos definiendo una clase iterador sobre una ruta, y además vaya copiando dicha ruta al final de otra ruta pasada como parámetro, lo cuál nos será de gran ayuda para la posterior implementación de las funciones de cruce y mutación. "
   ]
  },
  {
   "cell_type": "code",
   "execution_count": 26,
   "metadata": {},
   "outputs": [],
   "source": [
    "class Iterador_ruta :\n",
    "    \n",
    "    def __init__(self) :\n",
    "        self.index = 0\n",
    "        self.vertice = 0\n",
    "        self.a = 0\n",
    "        self.b = 0\n",
    "        \n",
    "            \n",
    "    def iniciar(self, ruta, hijo = None) :\n",
    "        self.index = 0\n",
    "        self.vertice = ruta.vertices[0]\n",
    "        self.a = 0\n",
    "        self.b = ruta.tiempo[0]\n",
    "        \n",
    "        if not (hijo == None) :\n",
    "            hijo.vertices.append(self.vertice)\n",
    "            hijo.tiempo.append(ruta.tiempo[self.index])\n",
    "        \n",
    "    def siguiente(self, ruta, hijo = None) :\n",
    "        if self.index >= len(ruta.dist) :\n",
    "            return False\n",
    "        self.a = self.b + ruta.dist[self.index]\n",
    "        self.index += 1\n",
    "        self.b = self.a + ruta.tiempo[self.index]\n",
    "        self.vertice = ruta.vertices[self.index]\n",
    "        \n",
    "        if not (hijo == None) :\n",
    "            hijo.vertices.append(self.vertice)\n",
    "            hijo.tiempo.append(ruta.tiempo[self.index])\n",
    "            hijo.dist.append(ruta.dist[self.index - 1])\n",
    "        \n",
    "        return True"
   ]
  },
  {
   "cell_type": "markdown",
   "metadata": {},
   "source": [
    "A continuación implementamos los dos tipos de cruces comentados en la memoria."
   ]
  },
  {
   "cell_type": "code",
   "execution_count": 27,
   "metadata": {},
   "outputs": [],
   "source": [
    "def cruza1(instancia, p1, p2) :          \n",
    "    return sucesor(instancia, p1, p2) , sucesor(instancia, p2, p1)\n",
    "\n",
    "# Cruza 2 rutas para un mismo actor\n",
    "def sucesor(instancia, p1, p2) :\n",
    "    grafo = instancia.grafo\n",
    "    hijo = Ruta()\n",
    "    it = Iterador_ruta()\n",
    "    it.iniciar(p1)\n",
    "    b = True\n",
    "    while(b and grafo.dist(it.vertice , p2.vertices[-1]) <= instancia.M - it.b ): \n",
    "        b = it.siguiente(p1)\n",
    "    if it.index == 0:\n",
    "        return p1\n",
    "    i = random.randint(0 , it.index-1 ) # Tomamos un índice aleatorio que permita realizar el cruce\n",
    "\n",
    "    it = Iterador_ruta()\n",
    "    it.iniciar(p1,hijo) # Copiamos en el hijo desde el inicio de p1 hasta el indice i\n",
    "    while( it.index < i):\n",
    "        it.siguiente(p1,hijo)\n",
    "    hora_salida = it.b\n",
    "    src = it.vertice\n",
    "\n",
    "    it2 = Iterador_ruta()\n",
    "    it2.iniciar(p2) #Buscamos el vértice destino\n",
    "    while( hora_salida + grafo.dist(src, it2.vertice) > it2.b ):\n",
    "        it2.siguiente(p2)\n",
    "\n",
    "    grafo.reconstruir(src, it2.vertice , it2.b - hora_salida , hijo) # Añadimos al hijo el camino mas corto de src a dst\n",
    "\n",
    "    while(it2.siguiente(p2,hijo)): #Copiamos en el hijo el resto de p2\n",
    "        continue\n",
    "\n",
    "    return hijo"
   ]
  },
  {
   "cell_type": "code",
   "execution_count": 28,
   "metadata": {},
   "outputs": [],
   "source": [
    "# Cruza 2 rutas para un mismo actor\n",
    "\n",
    "def cruza2(instancia, p1, p2) :\n",
    "    h1 = Ruta()\n",
    "    h2 = Ruta()\n",
    "\n",
    "    it1 = Iterador_ruta()\n",
    "    it1.iniciar(p1,h1)\n",
    "    it2 = Iterador_ruta()\n",
    "    it2.iniciar(p2,h2)\n",
    "    b1 = True\n",
    "    b2 = True\n",
    "\n",
    "    while(b1 and b2) :\n",
    "\n",
    "        if it1.vertice == it2.vertice :\n",
    "            if not intervalos_disjuntos(it1.a, it1.b ,it2.a, it2.b) :\n",
    "                # Dentro de eate if, ambas rutas padres coinciden en el mismo vértice a la misma hora\n",
    "\n",
    "                h1.tiempo[len( h1.tiempo ) - 1] = it2.b - it1.a\n",
    "                h2.tiempo[len( h2.tiempo ) - 1] = it1.b - it2.a\n",
    "                \n",
    "                # Cruzamos a los hijos\n",
    "                h1, h2 = h2, h1\n",
    "\n",
    "                b1 = it1.siguiente(p1, h1)\n",
    "                b2 = it2.siguiente(p2, h2)\n",
    "                break # Al eliminar esta instrucción, el cruce pasa a ser con varios puntos de corte en lugar de tener uno solo\n",
    "\n",
    "\n",
    "        if it1.b < it2.b :\n",
    "            b1 = it1.siguiente(p1, h1)\n",
    "        else :\n",
    "            b2 = it2.siguiente(p2, h2)\n",
    "   \n",
    "   # Copiamos en los hijos las colas de los padres correspondientes.\n",
    "    while b1 :\n",
    "        b1 = it1.siguiente(p1, h1)\n",
    "    \n",
    "    while b2 :\n",
    "        b2 = it2.siguiente(p2, h2)\n",
    "\n",
    "    return h1, h2"
   ]
  },
  {
   "cell_type": "markdown",
   "metadata": {},
   "source": [
    "## 4.4 Función mutar"
   ]
  },
  {
   "cell_type": "code",
   "execution_count": 29,
   "metadata": {},
   "outputs": [],
   "source": [
    "MAX_INTERVALO_MUTACION = 10\n",
    "\n",
    "def muta(instancia, ruta, prob) :\n",
    "    if random.uniform(0, 1) > prob :\n",
    "        return ruta\n",
    "    if len(ruta.vertices) < 2 :\n",
    "        sol = Ruta()\n",
    "        ruta_random(instancia.grafo, -1, -1, instancia.M,sol)\n",
    "        return sol\n",
    "\n",
    "\n",
    "    i = random.randint(0, len(ruta.vertices) - 1)\n",
    "    j = (i + random.randint(1, MAX_INTERVALO_MUTACION) ) % len(ruta.vertices)\n",
    "    while j == i :\n",
    "        j = (i + random.randint(1, MAX_INTERVALO_MUTACION) ) % len(ruta.vertices)\n",
    "    if i < j: # Nos aseguramos de que i sea el menor entre ambos\n",
    "        return mutar_intervalo(instancia, ruta, i, j)\n",
    "    else :\n",
    "        n = len(ruta.vertices)\n",
    "        primera_mutacion = mutar_intervalo(instancia,ruta, -1, j)\n",
    "        m = len(primera_mutacion.vertices)\n",
    "        return  mutar_intervalo(instancia, primera_mutacion, m-(n-i), m)"
   ]
  },
  {
   "cell_type": "markdown",
   "metadata": {},
   "source": [
    "Nos ayudamos de la función auxiliar mutar_intervalo, que genera una mutación aleatoria en la ruta en los vértices $w_iw_{i+1}\\dotsi w_j$.\n",
    "\n",
    "Además, si $i=-1$ elige el vértice $w_0$ al azar y genera un cambio en los vértices $w_0w_1\\dotsi w_j$.\n",
    "\n",
    "Si $j=-1$, elige el último vértice $w_s$ al azar y modifica el segmento $w_iw_{i-1}\\dotsi w_s$."
   ]
  },
  {
   "cell_type": "code",
   "execution_count": 30,
   "metadata": {},
   "outputs": [],
   "source": [
    "def mutar_intervalo(instancia, ruta, i, j) :\n",
    "    mutacion = Ruta()\n",
    "    \n",
    "    iterador = Iterador_ruta()  \n",
    "\n",
    "    if i >= 0 :\n",
    "        iterador.iniciar(ruta, mutacion)\n",
    "        ## Dejamos los indices [0, 1,..., i] intactos\n",
    "        while(iterador.index < i) :\n",
    "            iterador.siguiente(ruta, mutacion)\n",
    "        v1 = ruta.vertices[i]\n",
    "        t1 = iterador.b # tiempo de salida del primer vertice\n",
    "    else :\n",
    "        iterador.iniciar(ruta, None)\n",
    "        v1 = -1 ## indicamos que no hay vertice inicial\n",
    "        t1 = 0\n",
    "        \n",
    "    ## Avanzamos hasta j para saber a que tiempo llega, enviando None para que no añada vertices erroneos a la mutacion\n",
    "    if j < len(ruta.vertices) :\n",
    "        while(iterador.index < j) :\n",
    "            iterador.siguiente(ruta, None)\n",
    "        v2 = ruta.vertices[j]\n",
    "        t2 = iterador.a # tiempo de llegada al segundo vertice\n",
    "    else :\n",
    "        v2 = -1 ## indicamos que no hay verticee final\n",
    "        t2 = instancia.M\n",
    "    \n",
    "    if t2 - t1 < 0 :\n",
    "        fehu= 7\n",
    "     \n",
    "    ruta_random(instancia.grafo, v1, v2, t2 - t1, mutacion)\n",
    "    \n",
    "    ## Dejamos los indices [j,j+1,..., s] del original intactos\n",
    "    if j < len(ruta.vertices) :\n",
    "        mutacion.tiempo[-1] += ruta.tiempo[j]\n",
    "        while(iterador.siguiente(ruta, mutacion)) :\n",
    "            continue\n",
    "    return mutacion"
   ]
  },
  {
   "cell_type": "code",
   "execution_count": 31,
   "metadata": {},
   "outputs": [],
   "source": [
    "# Añade a mutacion una nueva ruta desde src hasta dest\n",
    "\n",
    "def ruta_random(grafo, src, dest, tiempo, mutacion) :\n",
    "    \n",
    "    if src == -1 : # Si el vertice inicial no viene dado, elegimos uno desde que se pueda llegar al destino\n",
    "        if dest != -1: \n",
    "            iniciales = [v for v in range(grafo.V) if grafo.dist(v, dest) <= tiempo]\n",
    "        else : # Si el destino tampoco se conoce, elegimos un vertice inicial al azar\n",
    "            iniciales = range(grafo.V)               \n",
    "        src = random.choice(iniciales)\n",
    "        mutacion.vertices.append(src)\n",
    "        mutacion.tiempo.append(0)\n",
    "        \n",
    "    if dest == -1 : # Ya teniendo origen, si el destino no se conoce elegimos uno valido\n",
    "        finales = [v for v in range(grafo.V) if grafo.dist(src, v) <= tiempo]\n",
    "        if len(finales) == 0:\n",
    "            mutacion.tiempo[-1] = tiempo\n",
    "            return\n",
    "        dest = random.choice(finales)\n",
    "    \n",
    "    # Ya teniendo origen y destino, llamamos a la funcion ruta_random antes definida\n",
    "    \n",
    "    ruta_random_rec(grafo, src, dest, tiempo, mutacion)"
   ]
  },
  {
   "cell_type": "code",
   "execution_count": 32,
   "metadata": {},
   "outputs": [],
   "source": [
    "# Añade a mutacion una nueva ruta desde src hasta dest\n",
    "# No espera tiempo en ningun vertice, salvo en el ultimo\n",
    "\n",
    "def ruta_random_rec(grafo, src, dest, tiempo, mutacion) :    \n",
    "\n",
    "    if src == dest :\n",
    "        mutacion.tiempo[-1] += tiempo\n",
    "        return mutacion\n",
    "    # Tomamos por posibles adyacentes los vertices que nos permiten llegar al destino a tiempo\n",
    "    posibles_adyacentes = [arista for arista in grafo.adyList[src] if arista.distancia + grafo.dist(arista.vertice, dest) <= tiempo]\n",
    "\n",
    "    arista_elegida = random.choice(posibles_adyacentes)\n",
    "    \n",
    "    mutacion.vertices.append( arista_elegida.vertice )\n",
    "    mutacion.dist.append( arista_elegida.distancia )\n",
    "    \n",
    "    # La recursion finaliza cuando llegamos al destino\n",
    "    if arista_elegida.vertice == dest :\n",
    "        mutacion.tiempo.append( tiempo - arista_elegida.distancia )\n",
    "        return \n",
    "    else :\n",
    "        tiempo_restante = tiempo - arista_elegida.distancia - grafo.dist(arista_elegida.vertice , dest)\n",
    "        espera = espera_tiempo(tiempo_restante)\n",
    "        mutacion.tiempo.append(espera)\n",
    "        ruta_random_rec(grafo, arista_elegida.vertice, dest, tiempo - arista_elegida.distancia - espera, mutacion)\n",
    "    "
   ]
  },
  {
   "cell_type": "code",
   "execution_count": 33,
   "metadata": {},
   "outputs": [],
   "source": [
    "import numpy\n",
    "\n",
    "def espera_tiempo(tiempo) :\n",
    "\n",
    "    # Version 1: distribucion geometrica, devuelve valores z = 1,2,3,... con probabilidad P(z == k) = p*(1-p)^(k-1)\n",
    "    z = numpy.random.geometric(p=0.35) - 1\n",
    "    while z > tiempo :\n",
    "        z = numpy.random.geometric(p=0.35) - 1\n",
    "    return z\n"
   ]
  },
  {
   "cell_type": "markdown",
   "metadata": {},
   "source": [
    "# 5. Comparación algoritmos genéticos"
   ]
  },
  {
   "cell_type": "markdown",
   "metadata": {},
   "source": [
    "En esta sección definimos las funciones utilizadas para evaluar y comparar varias configuraciones del algoritmo genético"
   ]
  },
  {
   "cell_type": "code",
   "execution_count": 34,
   "metadata": {},
   "outputs": [
    {
     "data": {
      "text/plain": [
       "\" geneticos = [\\n\\n    ProblemaGenetico(muta, cruza1, fitness, poblacion_inicial1, num_generaciones = 1000, tam_generacion = 250) ,\\n    ProblemaGenetico(muta, cruza1, fitness, poblacion_inicial1, num_generaciones = 500 , tam_generacion = 500) ,\\n    ProblemaGenetico(muta, cruza1, fitness, poblacion_inicial1, num_generaciones = 250 , tam_generacion = 1000) ,\\n    ProblemaGenetico(muta, cruza1, fitness, poblacion_inicial1, num_generaciones = 1000, tam_generacion = 250, probabilidad_mutar = 0.2) ,\\n    ProblemaGenetico(muta, cruza1, fitness, poblacion_inicial1, num_generaciones = 500 , tam_generacion = 500, probabilidad_mutar = 0.2) ,\\n    ProblemaGenetico(muta, cruza1, fitness, poblacion_inicial1, num_generaciones = 250 , tam_generacion = 1000, probabilidad_mutar = 0.2) ,\\n\\n    ProblemaGenetico(muta, cruza2, fitness, poblacion_inicial1, num_generaciones = 1000, tam_generacion = 250) ,\\n    ProblemaGenetico(muta, cruza2, fitness, poblacion_inicial1, num_generaciones = 500 , tam_generacion = 500) ,\\n    ProblemaGenetico(muta, cruza2, fitness, poblacion_inicial1, num_generaciones = 250 , tam_generacion = 1000) ,\\n    ProblemaGenetico(muta, cruza2, fitness, poblacion_inicial1, num_generaciones = 1000, tam_generacion = 250, probabilidad_mutar = 0.2) ,\\n    ProblemaGenetico(muta, cruza2, fitness, poblacion_inicial1, num_generaciones = 500 , tam_generacion = 500, probabilidad_mutar = 0.2) ,\\n    ProblemaGenetico(muta, cruza2, fitness, poblacion_inicial1, num_generaciones = 250 , tam_generacion = 1000, probabilidad_mutar = 0.2) ,\\n]\\n\\nnombres_geneticos = [\\n\\n    'ProblemaGenetico(muta, cruza1, fitness, poblacion_inicial1, num_generaciones = 1000, tam_generacion = 250)' ,\\n    'ProblemaGenetico(muta, cruza1, fitness, poblacion_inicial1, num_generaciones = 500 , tam_generacion = 500)' ,\\n    'ProblemaGenetico(muta, cruza1, fitness, poblacion_inicial1, num_generaciones = 250 , tam_generacion = 1000)' ,\\n    'ProblemaGenetico(muta, cruza1, fitness, poblacion_inicial1, num_generaciones = 1000, tam_generacion = 250, probabilidad_mutar = 0.2)' ,\\n    'ProblemaGenetico(muta, cruza1, fitness, poblacion_inicial1, num_generaciones = 500 , tam_generacion = 500, probabilidad_mutar = 0.2)' ,\\n    'ProblemaGenetico(muta, cruza1, fitness, poblacion_inicial1, num_generaciones = 250 , tam_generacion = 1000, probabilidad_mutar = 0.2)' ,\\n\\n    'ProblemaGenetico(muta, cruza2, fitness, poblacion_inicial1, num_generaciones = 1000, tam_generacion = 250)' ,\\n    'ProblemaGenetico(muta, cruza2, fitness, poblacion_inicial1, num_generaciones = 500 , tam_generacion = 500)' ,\\n    'ProblemaGenetico(muta, cruza2, fitness, poblacion_inicial1, num_generaciones = 250 , tam_generacion = 1000)' ,\\n    'ProblemaGenetico(muta, cruza2, fitness, poblacion_inicial1, num_generaciones = 1000, tam_generacion = 250, probabilidad_mutar = 0.2)' ,\\n    'ProblemaGenetico(muta, cruza2, fitness, poblacion_inicial1, num_generaciones = 500 , tam_generacion = 500, probabilidad_mutar = 0.2)' ,\\n    'ProblemaGenetico(muta, cruza2, fitness, poblacion_inicial1, num_generaciones = 250 , tam_generacion = 1000, probabilidad_mutar = 0.2)'\\n] \""
      ]
     },
     "execution_count": 34,
     "metadata": {},
     "output_type": "execute_result"
    }
   ],
   "source": [
    "# Configuraciones probadas en los apartados 6.3.1 y 6.3.2 de la memoria\n",
    "\n",
    "geneticos = [\n",
    "    ProblemaGenetico(muta, cruza1, fitness, poblacion_inicial1, num_generaciones = 1000, tam_generacion = 250) ,\n",
    "    ProblemaGenetico(muta, cruza2, fitness, poblacion_inicial1, num_generaciones = 1000, tam_generacion = 250) ,\n",
    "    ProblemaGenetico(muta, cruza1, fitness, poblacion_inicial2, num_generaciones = 1000, tam_generacion = 250) ,\n",
    "    ProblemaGenetico(muta, cruza2, fitness, poblacion_inicial2, num_generaciones = 1000, tam_generacion = 250) \n",
    "]\n",
    "\n",
    "nombres_geneticos = [\n",
    "    'ProblemaGenetico(muta, cruza1, fitness, poblacion_inicial1, num_generaciones = 1000, tam_generacion = 250)' ,\n",
    "    'ProblemaGenetico(muta, cruza2, fitness, poblacion_inicial1, num_generaciones = 1000, tam_generacion = 250)' ,\n",
    "    'ProblemaGenetico(muta, cruza1, fitness, poblacion_inicial2, num_generaciones = 1000, tam_generacion = 250)' ,\n",
    "    'ProblemaGenetico(muta, cruza1, fitness, poblacion_inicial2, num_generaciones = 1000, tam_generacion = 250) '\n",
    "]\n",
    "\n",
    "# Configuraciones probadas en el apartado 6.3.3 de la memoria\n",
    "\n",
    "''' geneticos = [\n",
    "\n",
    "    ProblemaGenetico(muta, cruza1, fitness, poblacion_inicial1, num_generaciones = 1000, tam_generacion = 250) ,\n",
    "    ProblemaGenetico(muta, cruza1, fitness, poblacion_inicial1, num_generaciones = 500 , tam_generacion = 500) ,\n",
    "    ProblemaGenetico(muta, cruza1, fitness, poblacion_inicial1, num_generaciones = 250 , tam_generacion = 1000) ,\n",
    "    ProblemaGenetico(muta, cruza1, fitness, poblacion_inicial1, num_generaciones = 1000, tam_generacion = 250, probabilidad_mutar = 0.2) ,\n",
    "    ProblemaGenetico(muta, cruza1, fitness, poblacion_inicial1, num_generaciones = 500 , tam_generacion = 500, probabilidad_mutar = 0.2) ,\n",
    "    ProblemaGenetico(muta, cruza1, fitness, poblacion_inicial1, num_generaciones = 250 , tam_generacion = 1000, probabilidad_mutar = 0.2) ,\n",
    "\n",
    "    ProblemaGenetico(muta, cruza2, fitness, poblacion_inicial1, num_generaciones = 1000, tam_generacion = 250) ,\n",
    "    ProblemaGenetico(muta, cruza2, fitness, poblacion_inicial1, num_generaciones = 500 , tam_generacion = 500) ,\n",
    "    ProblemaGenetico(muta, cruza2, fitness, poblacion_inicial1, num_generaciones = 250 , tam_generacion = 1000) ,\n",
    "    ProblemaGenetico(muta, cruza2, fitness, poblacion_inicial1, num_generaciones = 1000, tam_generacion = 250, probabilidad_mutar = 0.2) ,\n",
    "    ProblemaGenetico(muta, cruza2, fitness, poblacion_inicial1, num_generaciones = 500 , tam_generacion = 500, probabilidad_mutar = 0.2) ,\n",
    "    ProblemaGenetico(muta, cruza2, fitness, poblacion_inicial1, num_generaciones = 250 , tam_generacion = 1000, probabilidad_mutar = 0.2) ,\n",
    "]\n",
    "\n",
    "nombres_geneticos = [\n",
    "\n",
    "    'ProblemaGenetico(muta, cruza1, fitness, poblacion_inicial1, num_generaciones = 1000, tam_generacion = 250)' ,\n",
    "    'ProblemaGenetico(muta, cruza1, fitness, poblacion_inicial1, num_generaciones = 500 , tam_generacion = 500)' ,\n",
    "    'ProblemaGenetico(muta, cruza1, fitness, poblacion_inicial1, num_generaciones = 250 , tam_generacion = 1000)' ,\n",
    "    'ProblemaGenetico(muta, cruza1, fitness, poblacion_inicial1, num_generaciones = 1000, tam_generacion = 250, probabilidad_mutar = 0.2)' ,\n",
    "    'ProblemaGenetico(muta, cruza1, fitness, poblacion_inicial1, num_generaciones = 500 , tam_generacion = 500, probabilidad_mutar = 0.2)' ,\n",
    "    'ProblemaGenetico(muta, cruza1, fitness, poblacion_inicial1, num_generaciones = 250 , tam_generacion = 1000, probabilidad_mutar = 0.2)' ,\n",
    "\n",
    "    'ProblemaGenetico(muta, cruza2, fitness, poblacion_inicial1, num_generaciones = 1000, tam_generacion = 250)' ,\n",
    "    'ProblemaGenetico(muta, cruza2, fitness, poblacion_inicial1, num_generaciones = 500 , tam_generacion = 500)' ,\n",
    "    'ProblemaGenetico(muta, cruza2, fitness, poblacion_inicial1, num_generaciones = 250 , tam_generacion = 1000)' ,\n",
    "    'ProblemaGenetico(muta, cruza2, fitness, poblacion_inicial1, num_generaciones = 1000, tam_generacion = 250, probabilidad_mutar = 0.2)' ,\n",
    "    'ProblemaGenetico(muta, cruza2, fitness, poblacion_inicial1, num_generaciones = 500 , tam_generacion = 500, probabilidad_mutar = 0.2)' ,\n",
    "    'ProblemaGenetico(muta, cruza2, fitness, poblacion_inicial1, num_generaciones = 250 , tam_generacion = 1000, probabilidad_mutar = 0.2)'\n",
    "] '''"
   ]
  },
  {
   "cell_type": "code",
   "execution_count": 35,
   "metadata": {},
   "outputs": [],
   "source": [
    "def ejecutar_geneticos(instancia):\n",
    "\n",
    "    soluciones = []\n",
    "\n",
    "    for i in range(len(geneticos)):\n",
    "        valor,_ = geneticos[i].solve(instancia)\n",
    "        soluciones.append(valor)\n",
    "    return soluciones\n",
    "\n",
    "def test_geneticos(archivo):\n",
    "    instancia = WP()\n",
    "\n",
    "    sols = []\n",
    "    \n",
    "    with open('test_cases/' +archivo) as f :\n",
    "        casos = int(f.readline())\n",
    "        for i in range(casos):\n",
    "            instancia = WP()\n",
    "            instancia.leer(f)   \n",
    "            sols.append( ejecutar_geneticos(instancia) )\n",
    "\n",
    "    archivo_out = 'geneticos_'+archivo\n",
    "    with open('test_cases_out/' +archivo_out,'w') as out :\n",
    "        out.write('Soluciones de los metodos voraces de: ' + archivo + '\\n')\n",
    "        for i in range( len(nombres_geneticos) ):\n",
    "            out.write('\\n\\n' + nombres_geneticos[i] + ':\\n')\n",
    "            for j in range( len(sols) ) :\n",
    "                out.write(str(sols[j][i]) + ', ')\n",
    "\n",
    "    return sols"
   ]
  },
  {
   "cell_type": "code",
   "execution_count": 36,
   "metadata": {},
   "outputs": [],
   "source": [
    "def ejecutar_geneticos_repeticiones(instancia, repeticiones):\n",
    "    \n",
    "    soluciones = []\n",
    "\n",
    "    for i in range(len(geneticos)):\n",
    "        valores = [ geneticos[i].solve(instancia)[0] for _ in range(repeticiones) ]\n",
    "        soluciones.append(valores)\n",
    "    return soluciones\n",
    "\n",
    "def test_geneticos_repeticiones(archivo, repeticiones):\n",
    "    instancia = WP()\n",
    "\n",
    "    sols = []\n",
    "    \n",
    "    with open('test_cases/' +archivo) as f :\n",
    "        casos = int(f.readline())\n",
    "        for i in range(casos):\n",
    "            instancia = WP()\n",
    "            instancia.leer(f)      # ejecutar_voraces() devuelve rutas, pero solo nos interesa guardar su valor fitness\n",
    "            sols.append( ejecutar_geneticos_repeticiones(instancia , repeticiones) )\n",
    "\n",
    "\n",
    "    archivo_out = 'geneticos_repeticiones_'+archivo\n",
    "    with open('test_cases_out/' +archivo_out,'w') as out :\n",
    "        out.write('Soluciones de los metodos voraces de: ' + archivo + '\\n')\n",
    "        for i in range( len(nombres_geneticos) ):\n",
    "            out.write('\\n\\n' + nombres_geneticos[i] + ':\\n')\n",
    "            for j in range( len(sols) ) :\n",
    "                out.write('\\nInstancia ' + str(j) + ':')\n",
    "                valores = sols[j][i]\n",
    "                media = sum(valores)/len(valores)\n",
    "                maximo = max(valores)\n",
    "                minimo = min(valores)\n",
    "                varianza =  sum([ (x-media)**2 for x in valores]) / len(valores) \n",
    "                out.write(str(sols[j][i]) + '\\tmedia: ' + str(media) + '\\tmaximo: ' + str(maximo) + '\\tminimo: ' + str(minimo) + '\\tvarianza: ' + str(varianza))\n",
    "\n",
    "    return sols"
   ]
  },
  {
   "cell_type": "markdown",
   "metadata": {},
   "source": [
    "# 6. Pruebas realizadas"
   ]
  },
  {
   "cell_type": "markdown",
   "metadata": {},
   "source": [
    "Generamos cuatros instancias aleatorias como están explicadas en la memoria, \n",
    "* I1 para el apartado 6.3.1.\n",
    "* I2 e I4 para el apartado 6.3.2\n",
    "* I3 para el apartado 6.3.3\n",
    "Además tenemos en la carpeta correspondiente el archivo 'contraejemplo.txt'.\n",
    "\n",
    "Para poder experimentar en tiempo más breve creamos un archivo con 3 casos de prueba pequeños\n"
   ]
  },
  {
   "cell_type": "code",
   "execution_count": 37,
   "metadata": {},
   "outputs": [],
   "source": [
    "from instance import generar_archivo\n",
    "\n",
    "generar_archivo('prueba.txt' , casos = 3 , vertices = 8, distancia = 8, testigos = 100, testimonios_por_testigo = 1, M = 10, intervalo_testimonio = 4 )\n",
    "\n",
    "# generar_archivo('I1.txt' , casos = 100 , vertices = 8, distancia = 8, testigos = 100, testimonios_por_testigo = 1, M = 10, intervalo_testimonio = 4 )\n",
    "\n",
    "# generar_archivo('I2.txt' , casos = 100 , vertices = 20, distancia = 10, testigos = 250, testimonios_por_testigo = 1, M = 100, intervalo_testimonio = 10 )\n",
    "\n",
    "# generar_archivo('I3.txt' , casos = 50 , vertices = 100, distancia = 10, testigos = 500, testimonios_por_testigo = 1, M = 200, intervalo_testimonio = 10 )\n",
    "\n",
    "# generar_archivo('I4.txt' , casos = 10 , vertices = 50, distancia = 10, testigos = 200, testimonios_por_testigo = 5, M = 100, intervalo_testimonio = 10,\n",
    "#                    lugares_por_testimonio = 5, proporcion_testimonios_negados = 0.2)\n",
    "\n"
   ]
  },
  {
   "cell_type": "code",
   "execution_count": 38,
   "metadata": {},
   "outputs": [],
   "source": [
    "solucion_voraz = test_voraces('prueba.txt')\n"
   ]
  },
  {
   "cell_type": "code",
   "execution_count": 39,
   "metadata": {},
   "outputs": [],
   "source": [
    "solucion_optima = test_optima('prueba.txt')"
   ]
  },
  {
   "cell_type": "code",
   "execution_count": 40,
   "metadata": {},
   "outputs": [],
   "source": [
    "solucion_geneticos = test_geneticos('prueba.txt')   # 2 minutos"
   ]
  },
  {
   "cell_type": "code",
   "execution_count": 41,
   "metadata": {},
   "outputs": [],
   "source": [
    "solucion_geneticos_repeticiones = test_geneticos_repeticiones('prueba.txt',10)"
   ]
  }
 ],
 "metadata": {
  "interpreter": {
   "hash": "e6822839c80bb80c42f7f9e096efdd447a89633a8e8a553b5cfb2012f3a4eafe"
  },
  "kernelspec": {
   "display_name": "Python 3.9.7 ('base')",
   "language": "python",
   "name": "python3"
  },
  "language_info": {
   "codemirror_mode": {
    "name": "ipython",
    "version": 3
   },
   "file_extension": ".py",
   "mimetype": "text/x-python",
   "name": "python",
   "nbconvert_exporter": "python",
   "pygments_lexer": "ipython3",
   "version": "3.9.7"
  },
  "orig_nbformat": 4
 },
 "nbformat": 4,
 "nbformat_minor": 2
}
